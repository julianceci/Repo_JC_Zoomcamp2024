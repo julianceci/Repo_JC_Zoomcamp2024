{
 "cells": [
  {
   "cell_type": "code",
   "execution_count": 1,
   "id": "07de9dc3",
   "metadata": {},
   "outputs": [],
   "source": [
    "import pyspark\n",
    "from pyspark.sql import SparkSession"
   ]
  },
  {
   "cell_type": "code",
   "execution_count": 2,
   "id": "ca5bbb06",
   "metadata": {},
   "outputs": [
    {
     "name": "stdout",
     "output_type": "stream",
     "text": [
      "24/02/24 12:30:14 WARN Utils: Your hostname, julian-Inspiron-7559 resolves to a loopback address: 127.0.1.1; using 192.168.0.105 instead (on interface wlp5s0)\n",
      "24/02/24 12:30:14 WARN Utils: Set SPARK_LOCAL_IP if you need to bind to another address\n"
     ]
    },
    {
     "name": "stderr",
     "output_type": "stream",
     "text": [
      "Setting default log level to \"WARN\".\n",
      "To adjust logging level use sc.setLogLevel(newLevel). For SparkR, use setLogLevel(newLevel).\n"
     ]
    },
    {
     "name": "stdout",
     "output_type": "stream",
     "text": [
      "24/02/24 12:30:15 WARN NativeCodeLoader: Unable to load native-hadoop library for your platform... using builtin-java classes where applicable\n",
      "24/02/24 12:30:16 WARN Utils: Service 'SparkUI' could not bind on port 4040. Attempting port 4041.\n"
     ]
    }
   ],
   "source": [
    "spark = SparkSession.builder \\\n",
    "    .master(\"local[*]\") \\\n",
    "    .appName('test') \\\n",
    "    .getOrCreate()"
   ]
  },
  {
   "cell_type": "code",
   "execution_count": 5,
   "id": "cf8de204",
   "metadata": {},
   "outputs": [
    {
     "name": "stdout",
     "output_type": "stream",
     "text": [
      "--2024-02-24 11:28:30--  https://d37ci6vzurychx.cloudfront.net/trip-data/fhvhv_tripdata_2021-01.parquet\n",
      "Resolving d37ci6vzurychx.cloudfront.net (d37ci6vzurychx.cloudfront.net)... 2600:9000:2123:400:b:20a5:b140:21, 2600:9000:2123:9400:b:20a5:b140:21, 2600:9000:2123:6200:b:20a5:b140:21, ...\n",
      "Connecting to d37ci6vzurychx.cloudfront.net (d37ci6vzurychx.cloudfront.net)|2600:9000:2123:400:b:20a5:b140:21|:443... connected.\n",
      "HTTP request sent, awaiting response... 200 OK\n",
      "Length: 308924937 (295M) [application/x-www-form-urlencoded]\n",
      "Saving to: ‘fhvhv_tripdata_2021-01.parquet’\n",
      "\n",
      "fhvhv_tripdata_2021 100%[===================>] 294,61M  3,57MB/s    in 88s     \n",
      "\n",
      "2024-02-24 11:29:59 (3,34 MB/s) - ‘fhvhv_tripdata_2021-01.parquet’ saved [308924937/308924937]\n",
      "\n"
     ]
    }
   ],
   "source": [
    "!wget https://d37ci6vzurychx.cloudfront.net/trip-data/fhvhv_tripdata_2021-01.parquet"
   ]
  },
  {
   "cell_type": "code",
   "execution_count": 29,
   "id": "931021a7",
   "metadata": {},
   "outputs": [],
   "source": [
    "#workaround porque ya no está disponible el csv en la página.\n",
    "df = spark.read \\\n",
    "     .parquet('fhvhv_tripdata_2021-01.parquet')"
   ]
  },
  {
   "cell_type": "code",
   "execution_count": 31,
   "id": "2c6b506f-e2fd-49ab-89fa-23a6963793f0",
   "metadata": {},
   "outputs": [],
   "source": [
    "df= df.select('hvfhs_license_num', 'dispatching_base_num', 'pickup_datetime', 'dropoff_datetime', 'PULocationID', 'DOLocationID')"
   ]
  },
  {
   "cell_type": "code",
   "execution_count": 32,
   "id": "91145e12-4340-4079-877f-6fdc64da9768",
   "metadata": {},
   "outputs": [
    {
     "name": "stdout",
     "output_type": "stream",
     "text": [
      "+-----------------+--------------------+-------------------+-------------------+------------+------------+\n",
      "|hvfhs_license_num|dispatching_base_num|    pickup_datetime|   dropoff_datetime|PULocationID|DOLocationID|\n",
      "+-----------------+--------------------+-------------------+-------------------+------------+------------+\n",
      "|           HV0003|              B02682|2020-12-31 21:33:44|2020-12-31 21:49:07|         230|         166|\n",
      "|           HV0003|              B02682|2020-12-31 21:55:19|2020-12-31 22:18:21|         152|         167|\n",
      "|           HV0003|              B02764|2020-12-31 21:23:56|2020-12-31 21:38:05|         233|         142|\n",
      "|           HV0003|              B02764|2020-12-31 21:42:51|2020-12-31 21:45:50|         142|         143|\n",
      "|           HV0003|              B02764|2020-12-31 21:48:14|2020-12-31 22:08:42|         143|          78|\n",
      "|           HV0005|              B02510|2020-12-31 21:06:59|2020-12-31 21:43:01|          88|          42|\n",
      "|           HV0005|              B02510|2020-12-31 21:50:00|2020-12-31 22:04:57|          42|         151|\n",
      "|           HV0003|              B02764|2020-12-31 21:14:30|2020-12-31 21:50:27|          71|         226|\n",
      "|           HV0003|              B02875|2020-12-31 21:22:54|2020-12-31 21:30:20|         112|         255|\n",
      "|           HV0003|              B02875|2020-12-31 21:40:12|2020-12-31 21:53:31|         255|         232|\n",
      "+-----------------+--------------------+-------------------+-------------------+------------+------------+\n",
      "only showing top 10 rows\n",
      "\n"
     ]
    }
   ],
   "source": [
    "df.show(10)"
   ]
  },
  {
   "cell_type": "code",
   "execution_count": 34,
   "id": "2c299ca5-06de-40e4-81a2-ccb3e05937e7",
   "metadata": {},
   "outputs": [
    {
     "name": "stderr",
     "output_type": "stream",
     "text": [
      "                                                                                \r"
     ]
    }
   ],
   "source": [
    "df.write.csv(\n",
    "    'fhvhv_tripdata_2021-01.csv',\n",
    "    header=True  # Incluir encabezados de columna en el archivo CSV\n",
    ")"
   ]
  },
  {
   "cell_type": "code",
   "execution_count": 35,
   "id": "e15543b8-758d-4c40-ad49-a7d0a0c82d12",
   "metadata": {},
   "outputs": [
    {
     "name": "stdout",
     "output_type": "stream",
     "text": [
      "11908469 fhvhv_tripdata_2021-01.csv\n"
     ]
    }
   ],
   "source": [
    "!wc -l fhvhv_tripdata_2021-01.csv"
   ]
  },
  {
   "cell_type": "code",
   "execution_count": 36,
   "id": "7e730773-d760-43f8-83c9-b6ec565c9f2c",
   "metadata": {},
   "outputs": [],
   "source": [
    "df = spark.read \\\n",
    "    .option(\"header\", \"true\") \\\n",
    "    .csv('fhvhv_tripdata_2021-01.csv')"
   ]
  },
  {
   "cell_type": "code",
   "execution_count": 37,
   "id": "5908a99e-ba36-4e46-9dd1-504967b077f4",
   "metadata": {},
   "outputs": [
    {
     "data": {
      "text/plain": [
       "[Row(hvfhs_license_num='HV0003', dispatching_base_num='B02682', pickup_datetime='2020-12-31T21:33:44.000-03:00', dropoff_datetime='2020-12-31T21:49:07.000-03:00', PULocationID='230', DOLocationID='166'),\n",
       " Row(hvfhs_license_num='HV0003', dispatching_base_num='B02682', pickup_datetime='2020-12-31T21:55:19.000-03:00', dropoff_datetime='2020-12-31T22:18:21.000-03:00', PULocationID='152', DOLocationID='167'),\n",
       " Row(hvfhs_license_num='HV0003', dispatching_base_num='B02764', pickup_datetime='2020-12-31T21:23:56.000-03:00', dropoff_datetime='2020-12-31T21:38:05.000-03:00', PULocationID='233', DOLocationID='142'),\n",
       " Row(hvfhs_license_num='HV0003', dispatching_base_num='B02764', pickup_datetime='2020-12-31T21:42:51.000-03:00', dropoff_datetime='2020-12-31T21:45:50.000-03:00', PULocationID='142', DOLocationID='143'),\n",
       " Row(hvfhs_license_num='HV0003', dispatching_base_num='B02764', pickup_datetime='2020-12-31T21:48:14.000-03:00', dropoff_datetime='2020-12-31T22:08:42.000-03:00', PULocationID='143', DOLocationID='78')]"
      ]
     },
     "execution_count": 37,
     "metadata": {},
     "output_type": "execute_result"
    }
   ],
   "source": [
    "df.head(5)"
   ]
  },
  {
   "cell_type": "code",
   "execution_count": 38,
   "id": "4249e790",
   "metadata": {},
   "outputs": [],
   "source": [
    "!head -n 1001 fhvhv_tripdata_2021-01.csv > head.csv"
   ]
  },
  {
   "cell_type": "code",
   "execution_count": 39,
   "id": "6894312c",
   "metadata": {},
   "outputs": [],
   "source": [
    "import pandas as pd"
   ]
  },
  {
   "cell_type": "code",
   "execution_count": 40,
   "id": "f3ca771b",
   "metadata": {},
   "outputs": [],
   "source": [
    "df_pandas = pd.read_csv('head.csv')"
   ]
  },
  {
   "cell_type": "code",
   "execution_count": 54,
   "id": "f1066b4f",
   "metadata": {},
   "outputs": [
    {
     "data": {
      "text/html": [
       "<div>\n",
       "<style scoped>\n",
       "    .dataframe tbody tr th:only-of-type {\n",
       "        vertical-align: middle;\n",
       "    }\n",
       "\n",
       "    .dataframe tbody tr th {\n",
       "        vertical-align: top;\n",
       "    }\n",
       "\n",
       "    .dataframe thead th {\n",
       "        text-align: right;\n",
       "    }\n",
       "</style>\n",
       "<table border=\"1\" class=\"dataframe\">\n",
       "  <thead>\n",
       "    <tr style=\"text-align: right;\">\n",
       "      <th></th>\n",
       "      <th>hvfhs_license_num</th>\n",
       "      <th>dispatching_base_num</th>\n",
       "      <th>pickup_datetime</th>\n",
       "      <th>dropoff_datetime</th>\n",
       "      <th>PULocationID</th>\n",
       "      <th>DOLocationID</th>\n",
       "    </tr>\n",
       "  </thead>\n",
       "  <tbody>\n",
       "    <tr>\n",
       "      <th>0</th>\n",
       "      <td>HV0003</td>\n",
       "      <td>B02682</td>\n",
       "      <td>2020-12-31T21:33:44.000-03:00</td>\n",
       "      <td>2020-12-31T21:49:07.000-03:00</td>\n",
       "      <td>230</td>\n",
       "      <td>166</td>\n",
       "    </tr>\n",
       "    <tr>\n",
       "      <th>1</th>\n",
       "      <td>HV0003</td>\n",
       "      <td>B02682</td>\n",
       "      <td>2020-12-31T21:55:19.000-03:00</td>\n",
       "      <td>2020-12-31T22:18:21.000-03:00</td>\n",
       "      <td>152</td>\n",
       "      <td>167</td>\n",
       "    </tr>\n",
       "    <tr>\n",
       "      <th>2</th>\n",
       "      <td>HV0003</td>\n",
       "      <td>B02764</td>\n",
       "      <td>2020-12-31T21:23:56.000-03:00</td>\n",
       "      <td>2020-12-31T21:38:05.000-03:00</td>\n",
       "      <td>233</td>\n",
       "      <td>142</td>\n",
       "    </tr>\n",
       "    <tr>\n",
       "      <th>3</th>\n",
       "      <td>HV0003</td>\n",
       "      <td>B02764</td>\n",
       "      <td>2020-12-31T21:42:51.000-03:00</td>\n",
       "      <td>2020-12-31T21:45:50.000-03:00</td>\n",
       "      <td>142</td>\n",
       "      <td>143</td>\n",
       "    </tr>\n",
       "    <tr>\n",
       "      <th>4</th>\n",
       "      <td>HV0003</td>\n",
       "      <td>B02764</td>\n",
       "      <td>2020-12-31T21:48:14.000-03:00</td>\n",
       "      <td>2020-12-31T22:08:42.000-03:00</td>\n",
       "      <td>143</td>\n",
       "      <td>78</td>\n",
       "    </tr>\n",
       "    <tr>\n",
       "      <th>...</th>\n",
       "      <td>...</td>\n",
       "      <td>...</td>\n",
       "      <td>...</td>\n",
       "      <td>...</td>\n",
       "      <td>...</td>\n",
       "      <td>...</td>\n",
       "    </tr>\n",
       "    <tr>\n",
       "      <th>995</th>\n",
       "      <td>HV0003</td>\n",
       "      <td>B02871</td>\n",
       "      <td>2020-12-31T21:33:43.000-03:00</td>\n",
       "      <td>2020-12-31T21:47:52.000-03:00</td>\n",
       "      <td>255</td>\n",
       "      <td>61</td>\n",
       "    </tr>\n",
       "    <tr>\n",
       "      <th>996</th>\n",
       "      <td>HV0005</td>\n",
       "      <td>B02510</td>\n",
       "      <td>2020-12-31T21:53:10.000-03:00</td>\n",
       "      <td>2020-12-31T22:21:09.000-03:00</td>\n",
       "      <td>114</td>\n",
       "      <td>21</td>\n",
       "    </tr>\n",
       "    <tr>\n",
       "      <th>997</th>\n",
       "      <td>HV0003</td>\n",
       "      <td>B02512</td>\n",
       "      <td>2020-12-31T21:18:35.000-03:00</td>\n",
       "      <td>2020-12-31T21:26:53.000-03:00</td>\n",
       "      <td>167</td>\n",
       "      <td>42</td>\n",
       "    </tr>\n",
       "    <tr>\n",
       "      <th>998</th>\n",
       "      <td>HV0003</td>\n",
       "      <td>B02512</td>\n",
       "      <td>2020-12-31T21:35:39.000-03:00</td>\n",
       "      <td>2020-12-31T21:42:59.000-03:00</td>\n",
       "      <td>116</td>\n",
       "      <td>116</td>\n",
       "    </tr>\n",
       "    <tr>\n",
       "      <th>999</th>\n",
       "      <td>HV0003</td>\n",
       "      <td>B02512</td>\n",
       "      <td>2020-12-31T21:44:54.000-03:00</td>\n",
       "      <td>2020-12-31T22:15:59.000-03:00</td>\n",
       "      <td>116</td>\n",
       "      <td>132</td>\n",
       "    </tr>\n",
       "  </tbody>\n",
       "</table>\n",
       "<p>1000 rows × 6 columns</p>\n",
       "</div>"
      ],
      "text/plain": [
       "    hvfhs_license_num dispatching_base_num                pickup_datetime  \\\n",
       "0              HV0003               B02682  2020-12-31T21:33:44.000-03:00   \n",
       "1              HV0003               B02682  2020-12-31T21:55:19.000-03:00   \n",
       "2              HV0003               B02764  2020-12-31T21:23:56.000-03:00   \n",
       "3              HV0003               B02764  2020-12-31T21:42:51.000-03:00   \n",
       "4              HV0003               B02764  2020-12-31T21:48:14.000-03:00   \n",
       "..                ...                  ...                            ...   \n",
       "995            HV0003               B02871  2020-12-31T21:33:43.000-03:00   \n",
       "996            HV0005               B02510  2020-12-31T21:53:10.000-03:00   \n",
       "997            HV0003               B02512  2020-12-31T21:18:35.000-03:00   \n",
       "998            HV0003               B02512  2020-12-31T21:35:39.000-03:00   \n",
       "999            HV0003               B02512  2020-12-31T21:44:54.000-03:00   \n",
       "\n",
       "                  dropoff_datetime  PULocationID  DOLocationID  \n",
       "0    2020-12-31T21:49:07.000-03:00           230           166  \n",
       "1    2020-12-31T22:18:21.000-03:00           152           167  \n",
       "2    2020-12-31T21:38:05.000-03:00           233           142  \n",
       "3    2020-12-31T21:45:50.000-03:00           142           143  \n",
       "4    2020-12-31T22:08:42.000-03:00           143            78  \n",
       "..                             ...           ...           ...  \n",
       "995  2020-12-31T21:47:52.000-03:00           255            61  \n",
       "996  2020-12-31T22:21:09.000-03:00           114            21  \n",
       "997  2020-12-31T21:26:53.000-03:00           167            42  \n",
       "998  2020-12-31T21:42:59.000-03:00           116           116  \n",
       "999  2020-12-31T22:15:59.000-03:00           116           132  \n",
       "\n",
       "[1000 rows x 6 columns]"
      ]
     },
     "execution_count": 54,
     "metadata": {},
     "output_type": "execute_result"
    }
   ],
   "source": [
    "df_pandas.dtypes\n",
    "df_pandas"
   ]
  },
  {
   "cell_type": "code",
   "execution_count": 50,
   "id": "16937bfd",
   "metadata": {},
   "outputs": [],
   "source": [
    "from pyspark.sql import types"
   ]
  },
  {
   "cell_type": "code",
   "execution_count": 51,
   "id": "fc61a99a",
   "metadata": {},
   "outputs": [],
   "source": [
    "schema = types.StructType([\n",
    "    types.StructField('hvfhs_license_num', types.StringType(), True),\n",
    "    types.StructField('dispatching_base_num', types.StringType(), True),\n",
    "    types.StructField('pickup_datetime', types.TimestampType(), True),\n",
    "    types.StructField('dropoff_datetime', types.TimestampType(), True),\n",
    "    types.StructField('PULocationID', types.IntegerType(), True),\n",
    "    types.StructField('DOLocationID', types.IntegerType(), True)\n",
    "])"
   ]
  },
  {
   "cell_type": "code",
   "execution_count": 52,
   "id": "f94052ae",
   "metadata": {},
   "outputs": [],
   "source": [
    "df = spark.read \\\n",
    "    .option(\"header\", \"true\") \\\n",
    "    .schema(schema) \\\n",
    "    .csv('fhvhv_tripdata_2021-01.csv')"
   ]
  },
  {
   "cell_type": "code",
   "execution_count": 53,
   "id": "f3d4f2f1-2e6c-459d-97f8-12b1fe8575d0",
   "metadata": {},
   "outputs": [
    {
     "name": "stdout",
     "output_type": "stream",
     "text": [
      "+-----------------+--------------------+-------------------+-------------------+------------+------------+\n",
      "|hvfhs_license_num|dispatching_base_num|    pickup_datetime|   dropoff_datetime|PULocationID|DOLocationID|\n",
      "+-----------------+--------------------+-------------------+-------------------+------------+------------+\n",
      "|           HV0003|              B02682|2020-12-31 21:33:44|2020-12-31 21:49:07|         230|         166|\n",
      "|           HV0003|              B02682|2020-12-31 21:55:19|2020-12-31 22:18:21|         152|         167|\n",
      "|           HV0003|              B02764|2020-12-31 21:23:56|2020-12-31 21:38:05|         233|         142|\n",
      "|           HV0003|              B02764|2020-12-31 21:42:51|2020-12-31 21:45:50|         142|         143|\n",
      "|           HV0003|              B02764|2020-12-31 21:48:14|2020-12-31 22:08:42|         143|          78|\n",
      "|           HV0005|              B02510|2020-12-31 21:06:59|2020-12-31 21:43:01|          88|          42|\n",
      "|           HV0005|              B02510|2020-12-31 21:50:00|2020-12-31 22:04:57|          42|         151|\n",
      "|           HV0003|              B02764|2020-12-31 21:14:30|2020-12-31 21:50:27|          71|         226|\n",
      "|           HV0003|              B02875|2020-12-31 21:22:54|2020-12-31 21:30:20|         112|         255|\n",
      "|           HV0003|              B02875|2020-12-31 21:40:12|2020-12-31 21:53:31|         255|         232|\n",
      "+-----------------+--------------------+-------------------+-------------------+------------+------------+\n",
      "only showing top 10 rows\n",
      "\n"
     ]
    }
   ],
   "source": [
    "df.show(10)"
   ]
  },
  {
   "cell_type": "code",
   "execution_count": 55,
   "id": "c270d9d6",
   "metadata": {},
   "outputs": [],
   "source": [
    "df = df.repartition(24)"
   ]
  },
  {
   "cell_type": "code",
   "execution_count": 56,
   "id": "7796c2b2",
   "metadata": {},
   "outputs": [
    {
     "name": "stderr",
     "output_type": "stream",
     "text": [
      "[Stage 20:==================================================>       (7 + 1) / 8]\r"
     ]
    },
    {
     "name": "stdout",
     "output_type": "stream",
     "text": [
      "24/02/24 15:55:18 WARN MemoryManager: Total allocation exceeds 95.00% (1,020,054,720 bytes) of heap memory\n",
      "Scaling row group sizes to 95.00% for 8 writers\n"
     ]
    },
    {
     "name": "stderr",
     "output_type": "stream",
     "text": [
      "[Stage 22:===================>                                     (8 + 8) / 24]\r"
     ]
    },
    {
     "name": "stdout",
     "output_type": "stream",
     "text": [
      "24/02/24 15:55:20 WARN MemoryManager: Total allocation exceeds 95.00% (1,020,054,720 bytes) of heap memory\n",
      "Scaling row group sizes to 95.00% for 8 writers\n"
     ]
    },
    {
     "name": "stderr",
     "output_type": "stream",
     "text": [
      "[Stage 22:===================================>                    (15 + 8) / 24]\r"
     ]
    },
    {
     "name": "stdout",
     "output_type": "stream",
     "text": [
      "24/02/24 15:55:22 WARN MemoryManager: Total allocation exceeds 95.00% (1,020,054,720 bytes) of heap memory\n",
      "Scaling row group sizes to 95.00% for 8 writers\n"
     ]
    },
    {
     "name": "stderr",
     "output_type": "stream",
     "text": [
      "                                                                                \r"
     ]
    }
   ],
   "source": [
    "df.write.parquet('fhvhv/2021/01/')"
   ]
  },
  {
   "cell_type": "code",
   "execution_count": 57,
   "id": "c3cab876",
   "metadata": {},
   "outputs": [],
   "source": [
    "df = spark.read.parquet('fhvhv/2021/01/')"
   ]
  },
  {
   "cell_type": "code",
   "execution_count": 60,
   "id": "203b5627",
   "metadata": {},
   "outputs": [
    {
     "name": "stdout",
     "output_type": "stream",
     "text": [
      "root\n",
      " |-- hvfhs_license_num: string (nullable = true)\n",
      " |-- dispatching_base_num: string (nullable = true)\n",
      " |-- pickup_datetime: timestamp (nullable = true)\n",
      " |-- dropoff_datetime: timestamp (nullable = true)\n",
      " |-- PULocationID: integer (nullable = true)\n",
      " |-- DOLocationID: integer (nullable = true)\n",
      "\n"
     ]
    }
   ],
   "source": [
    "df.printSchema()"
   ]
  },
  {
   "cell_type": "markdown",
   "id": "64172a47",
   "metadata": {},
   "source": [
    "SELECT * FROM df WHERE hvfhs_license_num =  HV0003"
   ]
  },
  {
   "cell_type": "code",
   "execution_count": 63,
   "id": "d24840a0",
   "metadata": {},
   "outputs": [],
   "source": [
    "from pyspark.sql import functions as F"
   ]
  },
  {
   "cell_type": "code",
   "execution_count": 64,
   "id": "3ab1ca44",
   "metadata": {
    "scrolled": true
   },
   "outputs": [
    {
     "name": "stdout",
     "output_type": "stream",
     "text": [
      "+-----------------+--------------------+-------------------+-------------------+------------+------------+\n",
      "|hvfhs_license_num|dispatching_base_num|    pickup_datetime|   dropoff_datetime|PULocationID|DOLocationID|\n",
      "+-----------------+--------------------+-------------------+-------------------+------------+------------+\n",
      "|           HV0005|              B02510|2021-01-04 10:52:39|2021-01-04 11:08:23|         246|         137|\n",
      "|           HV0003|              B02876|2021-01-02 12:01:08|2021-01-02 12:14:29|          45|         186|\n",
      "|           HV0003|              B02875|2021-01-04 06:45:12|2021-01-04 06:55:17|         167|         168|\n",
      "|           HV0003|              B02865|2021-01-01 07:09:08|2021-01-01 07:21:59|          86|         265|\n",
      "|           HV0005|              B02510|2021-01-02 16:45:06|2021-01-02 16:52:50|         100|         246|\n",
      "|           HV0005|              B02510|2021-01-01 15:42:33|2021-01-01 16:35:22|         113|         149|\n",
      "|           HV0003|              B02864|2021-01-01 00:56:29|2021-01-01 01:07:11|          69|         152|\n",
      "|           HV0003|              B02872|2021-01-03 10:33:13|2021-01-03 10:44:25|         216|          95|\n",
      "|           HV0003|              B02872|2021-01-03 20:27:38|2021-01-03 20:36:47|         256|          17|\n",
      "|           HV0003|              B02877|2021-01-01 22:27:24|2021-01-01 22:42:36|         191|         265|\n",
      "|           HV0003|              B02764|2020-12-31 23:43:41|2020-12-31 23:59:29|         249|         170|\n",
      "|           HV0003|              B02872|2021-01-04 16:28:45|2021-01-04 16:46:13|          14|         108|\n",
      "|           HV0005|              B02510|2021-01-02 16:24:46|2021-01-02 16:53:06|          37|          13|\n",
      "|           HV0003|              B02879|2021-01-02 02:15:32|2021-01-02 02:34:41|         261|          89|\n",
      "|           HV0003|              B02875|2021-01-02 16:21:44|2021-01-02 16:27:05|         229|         141|\n",
      "|           HV0003|              B02764|2021-01-04 08:26:19|2021-01-04 08:38:20|         107|         161|\n",
      "|           HV0003|              B02870|2021-01-03 12:58:04|2021-01-03 13:12:48|         259|         265|\n",
      "|           HV0005|              B02510|2021-01-01 05:40:55|2021-01-01 05:48:01|         232|          33|\n",
      "|           HV0003|              B02864|2021-01-01 19:58:51|2021-01-01 20:09:59|         263|         119|\n",
      "|           HV0003|              B02870|2021-01-05 01:39:17|2021-01-05 01:51:49|          78|         265|\n",
      "+-----------------+--------------------+-------------------+-------------------+------------+------------+\n",
      "only showing top 20 rows\n",
      "\n"
     ]
    }
   ],
   "source": [
    "df.show()"
   ]
  },
  {
   "cell_type": "code",
   "execution_count": 65,
   "id": "6d98c2ce",
   "metadata": {},
   "outputs": [],
   "source": [
    "def crazy_stuff(base_num):\n",
    "    num = int(base_num[1:])\n",
    "    if num % 7 == 0:\n",
    "        return f's/{num:03x}'\n",
    "    elif num % 3 == 0:\n",
    "        return f'a/{num:03x}'\n",
    "    else:\n",
    "        return f'e/{num:03x}'"
   ]
  },
  {
   "cell_type": "code",
   "execution_count": 66,
   "id": "f3175419",
   "metadata": {},
   "outputs": [
    {
     "data": {
      "text/plain": [
       "'s/b44'"
      ]
     },
     "execution_count": 66,
     "metadata": {},
     "output_type": "execute_result"
    }
   ],
   "source": [
    "crazy_stuff('B02884')"
   ]
  },
  {
   "cell_type": "code",
   "execution_count": 67,
   "id": "9bb5d503",
   "metadata": {},
   "outputs": [],
   "source": [
    "crazy_stuff_udf = F.udf(crazy_stuff, returnType=types.StringType())"
   ]
  },
  {
   "cell_type": "code",
   "execution_count": 68,
   "id": "b38f0465",
   "metadata": {
    "scrolled": true
   },
   "outputs": [
    {
     "name": "stderr",
     "output_type": "stream",
     "text": [
      "[Stage 26:>                                                         (0 + 1) / 1]\r"
     ]
    },
    {
     "name": "stdout",
     "output_type": "stream",
     "text": [
      "+-------+-----------+------------+------------+------------+\n",
      "|base_id|pickup_date|dropoff_date|PULocationID|DOLocationID|\n",
      "+-------+-----------+------------+------------+------------+\n",
      "|  e/9ce| 2021-01-04|  2021-01-04|         246|         137|\n",
      "|  e/b3c| 2021-01-02|  2021-01-02|          45|         186|\n",
      "|  e/b3b| 2021-01-04|  2021-01-04|         167|         168|\n",
      "|  a/b31| 2021-01-01|  2021-01-01|          86|         265|\n",
      "|  e/9ce| 2021-01-02|  2021-01-02|         100|         246|\n",
      "|  e/9ce| 2021-01-01|  2021-01-01|         113|         149|\n",
      "|  e/b30| 2021-01-01|  2021-01-01|          69|         152|\n",
      "|  e/b38| 2021-01-03|  2021-01-03|         216|          95|\n",
      "|  e/b38| 2021-01-03|  2021-01-03|         256|          17|\n",
      "|  s/b3d| 2021-01-01|  2021-01-01|         191|         265|\n",
      "|  e/acc| 2020-12-31|  2020-12-31|         249|         170|\n",
      "|  e/b38| 2021-01-04|  2021-01-04|          14|         108|\n",
      "|  e/9ce| 2021-01-02|  2021-01-02|          37|          13|\n",
      "|  e/b3f| 2021-01-02|  2021-01-02|         261|          89|\n",
      "|  e/b3b| 2021-01-02|  2021-01-02|         229|         141|\n",
      "|  e/acc| 2021-01-04|  2021-01-04|         107|         161|\n",
      "|  s/b36| 2021-01-03|  2021-01-03|         259|         265|\n",
      "|  e/9ce| 2021-01-01|  2021-01-01|         232|          33|\n",
      "|  e/b30| 2021-01-01|  2021-01-01|         263|         119|\n",
      "|  s/b36| 2021-01-05|  2021-01-05|          78|         265|\n",
      "+-------+-----------+------------+------------+------------+\n",
      "only showing top 20 rows\n",
      "\n"
     ]
    },
    {
     "name": "stderr",
     "output_type": "stream",
     "text": [
      "                                                                                \r"
     ]
    }
   ],
   "source": [
    "df \\\n",
    "    .withColumn('pickup_date', F.to_date(df.pickup_datetime)) \\\n",
    "    .withColumn('dropoff_date', F.to_date(df.dropoff_datetime)) \\\n",
    "    .withColumn('base_id', crazy_stuff_udf(df.dispatching_base_num)) \\\n",
    "    .select('base_id', 'pickup_date', 'dropoff_date', 'PULocationID', 'DOLocationID') \\\n",
    "    .show()"
   ]
  },
  {
   "cell_type": "code",
   "execution_count": 70,
   "id": "00921644",
   "metadata": {},
   "outputs": [
    {
     "name": "stdout",
     "output_type": "stream",
     "text": [
      "+-------------------+-------------------+------------+------------+\n",
      "|    pickup_datetime|   dropoff_datetime|PULocationID|DOLocationID|\n",
      "+-------------------+-------------------+------------+------------+\n",
      "|2021-01-02 12:01:08|2021-01-02 12:14:29|          45|         186|\n",
      "|2021-01-04 06:45:12|2021-01-04 06:55:17|         167|         168|\n",
      "|2021-01-01 07:09:08|2021-01-01 07:21:59|          86|         265|\n",
      "|2021-01-01 00:56:29|2021-01-01 01:07:11|          69|         152|\n",
      "|2021-01-03 10:33:13|2021-01-03 10:44:25|         216|          95|\n",
      "|2021-01-03 20:27:38|2021-01-03 20:36:47|         256|          17|\n",
      "|2021-01-01 22:27:24|2021-01-01 22:42:36|         191|         265|\n",
      "|2020-12-31 23:43:41|2020-12-31 23:59:29|         249|         170|\n",
      "|2021-01-04 16:28:45|2021-01-04 16:46:13|          14|         108|\n",
      "|2021-01-02 02:15:32|2021-01-02 02:34:41|         261|          89|\n",
      "|2021-01-02 16:21:44|2021-01-02 16:27:05|         229|         141|\n",
      "|2021-01-04 08:26:19|2021-01-04 08:38:20|         107|         161|\n",
      "|2021-01-03 12:58:04|2021-01-03 13:12:48|         259|         265|\n",
      "|2021-01-01 19:58:51|2021-01-01 20:09:59|         263|         119|\n",
      "|2021-01-05 01:39:17|2021-01-05 01:51:49|          78|         265|\n",
      "|2021-01-01 10:06:28|2021-01-01 10:37:30|          76|         168|\n",
      "|2021-01-05 07:43:15|2021-01-05 08:02:52|         163|          45|\n",
      "|2021-01-01 17:24:50|2021-01-01 17:37:13|         130|          10|\n",
      "|2021-01-04 16:23:13|2021-01-04 16:25:58|         123|          21|\n",
      "|2021-01-05 08:42:02|2021-01-05 09:36:10|          39|         161|\n",
      "+-------------------+-------------------+------------+------------+\n",
      "only showing top 20 rows\n",
      "\n"
     ]
    }
   ],
   "source": [
    "df.select('pickup_datetime', 'dropoff_datetime', 'PULocationID', 'DOLocationID') \\\n",
    "  .filter(df.hvfhs_license_num == 'HV0003').show()\n"
   ]
  },
  {
   "cell_type": "code",
   "execution_count": 50,
   "id": "0866f9c0",
   "metadata": {},
   "outputs": [
    {
     "name": "stdout",
     "output_type": "stream",
     "text": [
      "hvfhs_license_num,dispatching_base_num,pickup_datetime,dropoff_datetime,PULocationID,DOLocationID,SR_Flag\r",
      "\r\n",
      "HV0003,B02682,2021-01-01 00:33:44,2021-01-01 00:49:07,230,166,\r",
      "\r\n",
      "HV0003,B02682,2021-01-01 00:55:19,2021-01-01 01:18:21,152,167,\r",
      "\r\n",
      "HV0003,B02764,2021-01-01 00:23:56,2021-01-01 00:38:05,233,142,\r",
      "\r\n",
      "HV0003,B02764,2021-01-01 00:42:51,2021-01-01 00:45:50,142,143,\r",
      "\r\n",
      "HV0003,B02764,2021-01-01 00:48:14,2021-01-01 01:08:42,143,78,\r",
      "\r\n",
      "HV0005,B02510,2021-01-01 00:06:59,2021-01-01 00:43:01,88,42,\r",
      "\r\n",
      "HV0005,B02510,2021-01-01 00:50:00,2021-01-01 01:04:57,42,151,\r",
      "\r\n",
      "HV0003,B02764,2021-01-01 00:14:30,2021-01-01 00:50:27,71,226,\r",
      "\r\n",
      "HV0003,B02875,2021-01-01 00:22:54,2021-01-01 00:30:20,112,255,\r",
      "\r\n"
     ]
    }
   ],
   "source": [
    "!head -n 10 head.csv"
   ]
  },
  {
   "cell_type": "code",
   "execution_count": null,
   "id": "aa1b0e18",
   "metadata": {},
   "outputs": [],
   "source": []
  }
 ],
 "metadata": {
  "kernelspec": {
   "display_name": "Python 3 (ipykernel)",
   "language": "python",
   "name": "python3"
  },
  "language_info": {
   "codemirror_mode": {
    "name": "ipython",
    "version": 3
   },
   "file_extension": ".py",
   "mimetype": "text/x-python",
   "name": "python",
   "nbconvert_exporter": "python",
   "pygments_lexer": "ipython3",
   "version": "3.10.12"
  }
 },
 "nbformat": 4,
 "nbformat_minor": 5
}
