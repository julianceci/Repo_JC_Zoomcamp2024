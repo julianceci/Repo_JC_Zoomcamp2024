{
 "cells": [
  {
   "cell_type": "code",
   "execution_count": 1,
   "id": "3307b886",
   "metadata": {},
   "outputs": [],
   "source": [
    "import pyspark\n",
    "from pyspark.sql import SparkSession\n",
    "\n",
    "spark = SparkSession.builder \\\n",
    "    .master(\"local[*]\") \\\n",
    "    .appName('test') \\\n",
    "    .getOrCreate()"
   ]
  },
  {
   "cell_type": "code",
   "execution_count": null,
   "id": "3041618a-ae81-4217-b938-795264adbe16",
   "metadata": {},
   "outputs": [],
   "source": [
    "import pandas as pd\n",
    "# Crea un DataFrame de Pandas de ejemplo\n",
    "pandas_df = pd.DataFrame({\n",
    "    'name': ['Alice', 'Bob', 'Charlie'],\n",
    "    'age': [30, 25, 35]\n",
    "})\n",
    "\n",
    "# Imprime el DataFrame de Pandas para verificar\n",
    "print(\"DataFrame de Pandas:\")\n",
    "print(pandas_df)\n",
    "\n",
    "# Convierte el DataFrame de Pandas a un DataFrame de Spark\n",
    "df = spark.createDataFrame(pandas_df)\n",
    "\n",
    "# Muestra el DataFrame de Spark\n",
    "df.show()"
   ]
  },
  {
   "cell_type": "code",
   "execution_count": null,
   "id": "64194197-464f-4e7a-9312-cb942b0acc49",
   "metadata": {},
   "outputs": [],
   "source": [
    "df = spark.read \\\n",
    "    .option(\"header\", \"true\") \\\n",
    "    .option(\"sep\", \";\") \\\n",
    "    .csv('/home/julian/Documents/Workspaces/prueba-python/datasources/shanghai-world-university-ranking.csv')\n",
    "\n",
    "df.show(10)"
   ]
  }
 ],
 "metadata": {
  "kernelspec": {
   "display_name": "Python 3 (ipykernel)",
   "language": "python",
   "name": "python3"
  },
  "language_info": {
   "codemirror_mode": {
    "name": "ipython",
    "version": 3
   },
   "file_extension": ".py",
   "mimetype": "text/x-python",
   "name": "python",
   "nbconvert_exporter": "python",
   "pygments_lexer": "ipython3",
   "version": "3.10.12"
  }
 },
 "nbformat": 4,
 "nbformat_minor": 5
}
